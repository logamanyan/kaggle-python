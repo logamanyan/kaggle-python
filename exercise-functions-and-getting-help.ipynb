{
 "cells": [
  {
   "cell_type": "markdown",
   "id": "677609b3",
   "metadata": {
    "papermill": {
     "duration": 0.007812,
     "end_time": "2024-06-21T15:21:03.874143",
     "exception": false,
     "start_time": "2024-06-21T15:21:03.866331",
     "status": "completed"
    },
    "tags": []
   },
   "source": [
    "**This notebook is an exercise in the [Python](https://www.kaggle.com/learn/python) course.  You can reference the tutorial at [this link](https://www.kaggle.com/colinmorris/functions-and-getting-help).**\n",
    "\n",
    "---\n"
   ]
  },
  {
   "cell_type": "markdown",
   "id": "dea02cbc",
   "metadata": {
    "papermill": {
     "duration": 0.006901,
     "end_time": "2024-06-21T15:21:03.888295",
     "exception": false,
     "start_time": "2024-06-21T15:21:03.881394",
     "status": "completed"
    },
    "tags": []
   },
   "source": [
    "Functions are powerful. Try writing some yourself.\n",
    "\n",
    "As before, don't forget to run the setup code below before jumping into question 1."
   ]
  },
  {
   "cell_type": "code",
   "execution_count": 1,
   "id": "12feb9ef",
   "metadata": {
    "_kg_hide-input": true,
    "_kg_hide-output": true,
    "execution": {
     "iopub.execute_input": "2024-06-21T15:21:03.908305Z",
     "iopub.status.busy": "2024-06-21T15:21:03.907811Z",
     "iopub.status.idle": "2024-06-21T15:21:05.625206Z",
     "shell.execute_reply": "2024-06-21T15:21:05.622716Z"
    },
    "papermill": {
     "duration": 1.731084,
     "end_time": "2024-06-21T15:21:05.628668",
     "exception": false,
     "start_time": "2024-06-21T15:21:03.897584",
     "status": "completed"
    },
    "tags": []
   },
   "outputs": [
    {
     "name": "stdout",
     "output_type": "stream",
     "text": [
      "Setup complete.\n"
     ]
    }
   ],
   "source": [
    "# SETUP. You don't need to worry for now about what this code does or how it works.\n",
    "from learntools.core import binder; binder.bind(globals())\n",
    "from learntools.python.ex2 import *\n",
    "print('Setup complete.')"
   ]
  },
  {
   "cell_type": "markdown",
   "id": "b5f0b74e",
   "metadata": {
    "papermill": {
     "duration": 0.011023,
     "end_time": "2024-06-21T15:21:05.651907",
     "exception": false,
     "start_time": "2024-06-21T15:21:05.640884",
     "status": "completed"
    },
    "tags": []
   },
   "source": [
    "# 1.\n",
    "\n",
    "Complete the body of the following function according to its docstring.\n",
    "\n",
    "HINT: Python has a built-in function `round`."
   ]
  },
  {
   "cell_type": "code",
   "execution_count": 2,
   "id": "4aafffc7",
   "metadata": {
    "execution": {
     "iopub.execute_input": "2024-06-21T15:21:05.673161Z",
     "iopub.status.busy": "2024-06-21T15:21:05.672119Z",
     "iopub.status.idle": "2024-06-21T15:21:05.696125Z",
     "shell.execute_reply": "2024-06-21T15:21:05.690666Z"
    },
    "papermill": {
     "duration": 0.041101,
     "end_time": "2024-06-21T15:21:05.700851",
     "exception": false,
     "start_time": "2024-06-21T15:21:05.659750",
     "status": "completed"
    },
    "tags": []
   },
   "outputs": [
    {
     "data": {
      "application/javascript": [
       "parent.postMessage({\"jupyterEvent\": \"custom.exercise_interaction\", \"data\": {\"outcomeType\": 1, \"valueTowardsCompletion\": 0.16666666666666666, \"interactionType\": 1, \"questionType\": 2, \"questionId\": \"1_RoundFunctionProblem\", \"learnToolsVersion\": \"0.3.4\", \"failureMessage\": \"\", \"exceptionClass\": \"\", \"trace\": \"\"}}, \"*\")"
      ],
      "text/plain": [
       "<IPython.core.display.Javascript object>"
      ]
     },
     "metadata": {},
     "output_type": "display_data"
    },
    {
     "data": {
      "text/markdown": [
       "<span style=\"color:#33cc33\">Correct</span>"
      ],
      "text/plain": [
       "Correct"
      ]
     },
     "metadata": {},
     "output_type": "display_data"
    }
   ],
   "source": [
    "def round_to_two_places(num):\n",
    "  return round(num,2)\n",
    "round_to_two_places(3.14159)\n",
    " \n",
    "    # Replace this body with your own code.\n",
    "    # (\"pass\" is a keyword that does literally nothing. We used it as a placeholder\n",
    "    # because after we begin a code block, Python requires at least one line of code)\n",
    "\n",
    "\n",
    "# Check your answer\n",
    "q1.check()"
   ]
  },
  {
   "cell_type": "code",
   "execution_count": 3,
   "id": "b373b91a",
   "metadata": {
    "execution": {
     "iopub.execute_input": "2024-06-21T15:21:05.720903Z",
     "iopub.status.busy": "2024-06-21T15:21:05.720433Z",
     "iopub.status.idle": "2024-06-21T15:21:05.741125Z",
     "shell.execute_reply": "2024-06-21T15:21:05.738479Z"
    },
    "papermill": {
     "duration": 0.03652,
     "end_time": "2024-06-21T15:21:05.746474",
     "exception": false,
     "start_time": "2024-06-21T15:21:05.709954",
     "status": "completed"
    },
    "tags": []
   },
   "outputs": [
    {
     "data": {
      "application/javascript": [
       "parent.postMessage({\"jupyterEvent\": \"custom.exercise_interaction\", \"data\": {\"interactionType\": 3, \"questionType\": 2, \"questionId\": \"1_RoundFunctionProblem\", \"learnToolsVersion\": \"0.3.4\", \"valueTowardsCompletion\": 0.0, \"failureMessage\": \"\", \"exceptionClass\": \"\", \"trace\": \"\", \"outcomeType\": 4}}, \"*\")"
      ],
      "text/plain": [
       "<IPython.core.display.Javascript object>"
      ]
     },
     "metadata": {},
     "output_type": "display_data"
    },
    {
     "data": {
      "text/markdown": [
       "<span style=\"color:#33cc99\">Solution:</span> \n",
       "```python\n",
       "return round(num, 2)\n",
       "```"
      ],
      "text/plain": [
       "Solution: \n",
       "```python\n",
       "return round(num, 2)\n",
       "```"
      ]
     },
     "metadata": {},
     "output_type": "display_data"
    }
   ],
   "source": [
    "# Uncomment the following for a hint\n",
    "#q1.hint()\n",
    "# Or uncomment the following to peek at the solution\n",
    "q1.solution()"
   ]
  },
  {
   "cell_type": "markdown",
   "id": "780de802",
   "metadata": {
    "papermill": {
     "duration": 0.011018,
     "end_time": "2024-06-21T15:21:05.766256",
     "exception": false,
     "start_time": "2024-06-21T15:21:05.755238",
     "status": "completed"
    },
    "tags": []
   },
   "source": [
    "# 2.\n",
    "The help for `round` says that `ndigits` (the second argument) may be negative.\n",
    "What do you think will happen when it is? Try some examples in the following cell."
   ]
  },
  {
   "cell_type": "code",
   "execution_count": 4,
   "id": "48d0e1d7",
   "metadata": {
    "execution": {
     "iopub.execute_input": "2024-06-21T15:21:05.788461Z",
     "iopub.status.busy": "2024-06-21T15:21:05.787985Z",
     "iopub.status.idle": "2024-06-21T15:21:05.798982Z",
     "shell.execute_reply": "2024-06-21T15:21:05.794708Z"
    },
    "papermill": {
     "duration": 0.029761,
     "end_time": "2024-06-21T15:21:05.804297",
     "exception": false,
     "start_time": "2024-06-21T15:21:05.774536",
     "status": "completed"
    },
    "tags": []
   },
   "outputs": [
    {
     "name": "stdout",
     "output_type": "stream",
     "text": [
      "234798370000\n"
     ]
    }
   ],
   "source": [
    "print(round(234798369635,-3))"
   ]
  },
  {
   "cell_type": "markdown",
   "id": "5d873a4f",
   "metadata": {
    "papermill": {
     "duration": 0.012857,
     "end_time": "2024-06-21T15:21:05.830781",
     "exception": false,
     "start_time": "2024-06-21T15:21:05.817924",
     "status": "completed"
    },
    "tags": []
   },
   "source": [
    "Can you think of a case where this would be useful?  Once you're ready, run the code cell below to see the answer and to receive credit for completing the problem."
   ]
  },
  {
   "cell_type": "code",
   "execution_count": 5,
   "id": "2f781668",
   "metadata": {
    "execution": {
     "iopub.execute_input": "2024-06-21T15:21:05.853796Z",
     "iopub.status.busy": "2024-06-21T15:21:05.853295Z",
     "iopub.status.idle": "2024-06-21T15:21:05.873692Z",
     "shell.execute_reply": "2024-06-21T15:21:05.870812Z"
    },
    "papermill": {
     "duration": 0.037723,
     "end_time": "2024-06-21T15:21:05.878953",
     "exception": false,
     "start_time": "2024-06-21T15:21:05.841230",
     "status": "completed"
    },
    "tags": []
   },
   "outputs": [
    {
     "data": {
      "application/javascript": [
       "parent.postMessage({\"jupyterEvent\": \"custom.exercise_interaction\", \"data\": {\"interactionType\": 3, \"questionType\": 4, \"questionId\": \"2_RoundNdigitsProblem\", \"learnToolsVersion\": \"0.3.4\", \"valueTowardsCompletion\": 0.0, \"failureMessage\": \"\", \"exceptionClass\": \"\", \"trace\": \"\", \"outcomeType\": 4}}, \"*\")"
      ],
      "text/plain": [
       "<IPython.core.display.Javascript object>"
      ]
     },
     "metadata": {},
     "output_type": "display_data"
    },
    {
     "data": {
      "text/markdown": [
       "<span style=\"color:#33cc99\">Solution:</span> As you've seen, `ndigits=-1` rounds to the nearest 10, `ndigits=-2` rounds to the nearest 100 and so on. Where might this be useful? Suppose we're dealing with large numbers:\n",
       "\n",
       "> The area of Finland is 338,424 km²  \n",
       "> The area of Greenland is 2,166,086 km²\n",
       "\n",
       "We probably don't care whether it's really 338,424, or 338,425, or 338,177. All those digits of accuracy are just distracting. We can chop them off by calling `round()` with `ndigits=-3`:\n",
       "\n",
       "> The area of Finland is 338,000 km²  \n",
       "> The area of Greenland is 2,166,000 km²\n",
       "\n",
       "(We'll talk about how we would get the commas later when we talk about string formatting :))\n"
      ],
      "text/plain": [
       "Solution: As you've seen, `ndigits=-1` rounds to the nearest 10, `ndigits=-2` rounds to the nearest 100 and so on. Where might this be useful? Suppose we're dealing with large numbers:\n",
       "\n",
       "> The area of Finland is 338,424 km²  \n",
       "> The area of Greenland is 2,166,086 km²\n",
       "\n",
       "We probably don't care whether it's really 338,424, or 338,425, or 338,177. All those digits of accuracy are just distracting. We can chop them off by calling `round()` with `ndigits=-3`:\n",
       "\n",
       "> The area of Finland is 338,000 km²  \n",
       "> The area of Greenland is 2,166,000 km²\n",
       "\n",
       "(We'll talk about how we would get the commas later when we talk about string formatting :))"
      ]
     },
     "metadata": {},
     "output_type": "display_data"
    }
   ],
   "source": [
    "# Check your answer (Run this code cell to receive credit!)\n",
    "q2.solution()"
   ]
  },
  {
   "cell_type": "markdown",
   "id": "0c043571",
   "metadata": {
    "papermill": {
     "duration": 0.00951,
     "end_time": "2024-06-21T15:21:05.902330",
     "exception": false,
     "start_time": "2024-06-21T15:21:05.892820",
     "status": "completed"
    },
    "tags": []
   },
   "source": [
    "# 3.\n",
    "\n",
    "In the previous exercise, the candy-sharing friends Alice, Bob and Carol tried to split candies evenly. For the sake of their friendship, any candies left over would be smashed. For example, if they collectively bring home 91 candies, they'll take 30 each and smash 1.\n",
    "\n",
    "Below is a simple function that will calculate the number of candies to smash for *any* number of total candies.\n",
    "\n",
    "Modify it so that it optionally takes a second argument representing the number of friends the candies are being split between. If no second argument is provided, it should assume 3 friends, as before.\n",
    "\n",
    "Update the docstring to reflect this new behaviour."
   ]
  },
  {
   "cell_type": "code",
   "execution_count": 6,
   "id": "f4869997",
   "metadata": {
    "execution": {
     "iopub.execute_input": "2024-06-21T15:21:05.927346Z",
     "iopub.status.busy": "2024-06-21T15:21:05.926893Z",
     "iopub.status.idle": "2024-06-21T15:21:05.940752Z",
     "shell.execute_reply": "2024-06-21T15:21:05.938379Z"
    },
    "papermill": {
     "duration": 0.031628,
     "end_time": "2024-06-21T15:21:05.944943",
     "exception": false,
     "start_time": "2024-06-21T15:21:05.913315",
     "status": "completed"
    },
    "tags": []
   },
   "outputs": [
    {
     "data": {
      "text/plain": [
       "1"
      ]
     },
     "execution_count": 6,
     "metadata": {},
     "output_type": "execute_result"
    }
   ],
   "source": [
    "def to_smash(total_candies):\n",
    "\n",
    "    return total_candies%3\n",
    "to_smash(91)\n",
    "    \n",
    "    "
   ]
  },
  {
   "cell_type": "code",
   "execution_count": 7,
   "id": "4436166b",
   "metadata": {
    "execution": {
     "iopub.execute_input": "2024-06-21T15:21:05.971609Z",
     "iopub.status.busy": "2024-06-21T15:21:05.971124Z",
     "iopub.status.idle": "2024-06-21T15:21:05.989989Z",
     "shell.execute_reply": "2024-06-21T15:21:05.986384Z"
    },
    "papermill": {
     "duration": 0.041018,
     "end_time": "2024-06-21T15:21:05.997472",
     "exception": false,
     "start_time": "2024-06-21T15:21:05.956454",
     "status": "completed"
    },
    "tags": []
   },
   "outputs": [
    {
     "data": {
      "application/javascript": [
       "parent.postMessage({\"jupyterEvent\": \"custom.exercise_interaction\", \"data\": {\"interactionType\": 2, \"questionType\": 2, \"questionId\": \"3_CandySmashingFunctionProblem\", \"learnToolsVersion\": \"0.3.4\", \"valueTowardsCompletion\": 0.0, \"failureMessage\": \"\", \"exceptionClass\": \"\", \"trace\": \"\", \"outcomeType\": 4}}, \"*\")"
      ],
      "text/plain": [
       "<IPython.core.display.Javascript object>"
      ]
     },
     "metadata": {},
     "output_type": "display_data"
    },
    {
     "data": {
      "text/markdown": [
       "<span style=\"color:#3366cc\">Hint:</span> Refer to the section of the last tutorial notebook where we talked about default arguments"
      ],
      "text/plain": [
       "Hint: Refer to the section of the last tutorial notebook where we talked about default arguments"
      ]
     },
     "metadata": {},
     "output_type": "display_data"
    }
   ],
   "source": [
    "q3.hint()"
   ]
  },
  {
   "cell_type": "code",
   "execution_count": 8,
   "id": "8410fdb4",
   "metadata": {
    "execution": {
     "iopub.execute_input": "2024-06-21T15:21:06.023705Z",
     "iopub.status.busy": "2024-06-21T15:21:06.021817Z",
     "iopub.status.idle": "2024-06-21T15:21:06.036883Z",
     "shell.execute_reply": "2024-06-21T15:21:06.034720Z"
    },
    "papermill": {
     "duration": 0.033112,
     "end_time": "2024-06-21T15:21:06.041347",
     "exception": false,
     "start_time": "2024-06-21T15:21:06.008235",
     "status": "completed"
    },
    "tags": []
   },
   "outputs": [
    {
     "data": {
      "application/javascript": [
       "parent.postMessage({\"jupyterEvent\": \"custom.exercise_interaction\", \"data\": {\"interactionType\": 3, \"questionType\": 2, \"questionId\": \"3_CandySmashingFunctionProblem\", \"learnToolsVersion\": \"0.3.4\", \"valueTowardsCompletion\": 0.0, \"failureMessage\": \"\", \"exceptionClass\": \"\", \"trace\": \"\", \"outcomeType\": 4}}, \"*\")"
      ],
      "text/plain": [
       "<IPython.core.display.Javascript object>"
      ]
     },
     "metadata": {},
     "output_type": "display_data"
    },
    {
     "data": {
      "text/markdown": [
       "<span style=\"color:#33cc99\">Solution:</span> \n",
       "```python\n",
       "def to_smash(total_candies, n_friends=3):\n",
       "    return total_candies % n_friends\n",
       "```"
      ],
      "text/plain": [
       "Solution: \n",
       "```python\n",
       "def to_smash(total_candies, n_friends=3):\n",
       "    return total_candies % n_friends\n",
       "```"
      ]
     },
     "metadata": {},
     "output_type": "display_data"
    }
   ],
   "source": [
    "q3.solution()"
   ]
  },
  {
   "cell_type": "markdown",
   "id": "7ca025ed",
   "metadata": {
    "papermill": {
     "duration": 0.010957,
     "end_time": "2024-06-21T15:21:06.061879",
     "exception": false,
     "start_time": "2024-06-21T15:21:06.050922",
     "status": "completed"
    },
    "tags": []
   },
   "source": [
    "# 4. (Optional)\n",
    "\n",
    "It may not be fun, but reading and understanding error messages will be an important part of your Python career.\n",
    "\n",
    "Each code cell below contains some commented buggy code. For each cell...\n",
    "\n",
    "1. Read the code and predict what you think will happen when it's run.\n",
    "2. Then uncomment the code and run it to see what happens. (**Tip**: In the kernel editor, you can highlight several lines and press `ctrl`+`/` to toggle commenting.)\n",
    "3. Fix the code (so that it accomplishes its intended purpose without throwing an exception)\n",
    "\n",
    "<!-- TODO: should this be autochecked? Delta is probably pretty small. -->"
   ]
  },
  {
   "cell_type": "code",
   "execution_count": 9,
   "id": "3eb2ba01",
   "metadata": {
    "execution": {
     "iopub.execute_input": "2024-06-21T15:21:06.089937Z",
     "iopub.status.busy": "2024-06-21T15:21:06.089398Z",
     "iopub.status.idle": "2024-06-21T15:21:06.101423Z",
     "shell.execute_reply": "2024-06-21T15:21:06.099473Z"
    },
    "papermill": {
     "duration": 0.031245,
     "end_time": "2024-06-21T15:21:06.105391",
     "exception": false,
     "start_time": "2024-06-21T15:21:06.074146",
     "status": "completed"
    },
    "tags": []
   },
   "outputs": [
    {
     "data": {
      "text/plain": [
       "10.0"
      ]
     },
     "execution_count": 9,
     "metadata": {},
     "output_type": "execute_result"
    }
   ],
   "source": [
    "round_to_two_places(9.9999)"
   ]
  },
  {
   "cell_type": "code",
   "execution_count": 10,
   "id": "4015f848",
   "metadata": {
    "execution": {
     "iopub.execute_input": "2024-06-21T15:21:06.133242Z",
     "iopub.status.busy": "2024-06-21T15:21:06.132790Z",
     "iopub.status.idle": "2024-06-21T15:21:06.139845Z",
     "shell.execute_reply": "2024-06-21T15:21:06.138212Z"
    },
    "papermill": {
     "duration": 0.02814,
     "end_time": "2024-06-21T15:21:06.147375",
     "exception": false,
     "start_time": "2024-06-21T15:21:06.119235",
     "status": "completed"
    },
    "tags": []
   },
   "outputs": [
    {
     "name": "stdout",
     "output_type": "stream",
     "text": [
      "10\n"
     ]
    }
   ],
   "source": [
    "x = -10\n",
    "y = 5\n",
    "smallest_abs = abs(x)\n",
    "print(smallest_abs)"
   ]
  },
  {
   "cell_type": "code",
   "execution_count": 11,
   "id": "810c4f22",
   "metadata": {
    "execution": {
     "iopub.execute_input": "2024-06-21T15:21:06.174867Z",
     "iopub.status.busy": "2024-06-21T15:21:06.174393Z",
     "iopub.status.idle": "2024-06-21T15:21:06.182959Z",
     "shell.execute_reply": "2024-06-21T15:21:06.181162Z"
    },
    "papermill": {
     "duration": 0.031206,
     "end_time": "2024-06-21T15:21:06.190457",
     "exception": false,
     "start_time": "2024-06-21T15:21:06.159251",
     "status": "completed"
    },
    "tags": []
   },
   "outputs": [
    {
     "name": "stdout",
     "output_type": "stream",
     "text": [
      "5.3\n"
     ]
    }
   ],
   "source": [
    "def f(x):\n",
    "    y = abs(x)\n",
    "    return y\n",
    "print(f(-5.3))"
   ]
  },
  {
   "cell_type": "markdown",
   "id": "0f8a12d7",
   "metadata": {
    "papermill": {
     "duration": 0.010538,
     "end_time": "2024-06-21T15:21:06.211359",
     "exception": false,
     "start_time": "2024-06-21T15:21:06.200821",
     "status": "completed"
    },
    "tags": []
   },
   "source": [
    "# Keep Going\n",
    "\n",
    "Nice job with the code. Next up, you'll learn about *conditionals*, which you'll need to **[write interesting programs](https://www.kaggle.com/colinmorris/booleans-and-conditionals)**. "
   ]
  },
  {
   "cell_type": "markdown",
   "id": "bc5fc40e",
   "metadata": {
    "papermill": {
     "duration": 0.011355,
     "end_time": "2024-06-21T15:21:06.235701",
     "exception": false,
     "start_time": "2024-06-21T15:21:06.224346",
     "status": "completed"
    },
    "tags": []
   },
   "source": [
    "---\n",
    "\n",
    "\n",
    "\n",
    "\n",
    "*Have questions or comments? Visit the [course discussion forum](https://www.kaggle.com/learn/python/discussion) to chat with other learners.*"
   ]
  }
 ],
 "metadata": {
  "kaggle": {
   "accelerator": "none",
   "dataSources": [],
   "isGpuEnabled": false,
   "isInternetEnabled": false,
   "language": "python",
   "sourceType": "notebook"
  },
  "kernelspec": {
   "display_name": "Python 3",
   "language": "python",
   "name": "python3"
  },
  "language_info": {
   "codemirror_mode": {
    "name": "ipython",
    "version": 3
   },
   "file_extension": ".py",
   "mimetype": "text/x-python",
   "name": "python",
   "nbconvert_exporter": "python",
   "pygments_lexer": "ipython3",
   "version": "3.10.13"
  },
  "learntools_metadata": {
   "lesson_index": 1,
   "type": "exercise"
  },
  "papermill": {
   "default_parameters": {},
   "duration": 9.710939,
   "end_time": "2024-06-21T15:21:09.121271",
   "environment_variables": {},
   "exception": null,
   "input_path": "__notebook__.ipynb",
   "output_path": "__notebook__.ipynb",
   "parameters": {},
   "start_time": "2024-06-21T15:20:59.410332",
   "version": "2.5.0"
  }
 },
 "nbformat": 4,
 "nbformat_minor": 5
}
