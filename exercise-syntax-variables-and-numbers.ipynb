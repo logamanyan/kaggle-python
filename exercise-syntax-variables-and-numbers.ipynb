{
 "cells": [
  {
   "cell_type": "markdown",
   "id": "1b776ec6",
   "metadata": {
    "papermill": {
     "duration": 0.011567,
     "end_time": "2024-06-21T12:04:26.635616",
     "exception": false,
     "start_time": "2024-06-21T12:04:26.624049",
     "status": "completed"
    },
    "tags": []
   },
   "source": [
    "**This notebook is an exercise in the [Python](https://www.kaggle.com/learn/python) course.  You can reference the tutorial at [this link](https://www.kaggle.com/colinmorris/hello-python).**\n",
    "\n",
    "---\n"
   ]
  },
  {
   "cell_type": "markdown",
   "id": "9b1fc91f",
   "metadata": {
    "papermill": {
     "duration": 0.010669,
     "end_time": "2024-06-21T12:04:26.656272",
     "exception": false,
     "start_time": "2024-06-21T12:04:26.645603",
     "status": "completed"
    },
    "tags": []
   },
   "source": [
    "Welcome to your first set of Python coding problems.  If this is your first time using Kaggle Notebooks, welcome! \n",
    "\n",
    "Notebooks are composed of blocks (called \"cells\") of text and code. Each of these is editable, though you'll mainly be editing the code cells to answer some questions.\n",
    "\n",
    "To get started, try running the code cell below (by pressing the ► button, or clicking on the cell and pressing ctrl+enter on your keyboard)."
   ]
  },
  {
   "cell_type": "code",
   "execution_count": 1,
   "id": "df202255",
   "metadata": {
    "execution": {
     "iopub.execute_input": "2024-06-21T12:04:26.680408Z",
     "iopub.status.busy": "2024-06-21T12:04:26.678975Z",
     "iopub.status.idle": "2024-06-21T12:04:26.694924Z",
     "shell.execute_reply": "2024-06-21T12:04:26.693583Z"
    },
    "papermill": {
     "duration": 0.030626,
     "end_time": "2024-06-21T12:04:26.697735",
     "exception": false,
     "start_time": "2024-06-21T12:04:26.667109",
     "status": "completed"
    },
    "tags": []
   },
   "outputs": [
    {
     "name": "stdout",
     "output_type": "stream",
     "text": [
      "You've successfully run some Python code\n",
      "Congratulations!\n",
      "super\n"
     ]
    }
   ],
   "source": [
    "print(\"You've successfully run some Python code\")\n",
    "print(\"Congratulations!\")\n",
    "print(\"super\")"
   ]
  },
  {
   "cell_type": "markdown",
   "id": "60435b53",
   "metadata": {
    "papermill": {
     "duration": 0.009374,
     "end_time": "2024-06-21T12:04:26.716935",
     "exception": false,
     "start_time": "2024-06-21T12:04:26.707561",
     "status": "completed"
    },
    "tags": []
   },
   "source": [
    "Try adding another line of code in the cell above and re-running it. \n",
    "\n",
    "Now let's get a little fancier:  Add a new code cell by clicking on an existing code cell, hitting the escape key, and then hitting the `a` or `b` key.  The `a` key will add a cell above the current cell, and `b` adds a cell below.\n",
    "\n",
    "Great! Now you know how to use Notebooks.\n",
    "\n",
    "Each hands-on exercise starts by setting up our feedback and code checking mechanism. Run the code cell below to do that. Then you'll be ready to move on to question 0."
   ]
  },
  {
   "cell_type": "code",
   "execution_count": 2,
   "id": "35190aa1",
   "metadata": {
    "_kg_hide-input": true,
    "_kg_hide-output": true,
    "execution": {
     "iopub.execute_input": "2024-06-21T12:04:26.741064Z",
     "iopub.status.busy": "2024-06-21T12:04:26.740648Z",
     "iopub.status.idle": "2024-06-21T12:04:28.029978Z",
     "shell.execute_reply": "2024-06-21T12:04:28.028399Z"
    },
    "papermill": {
     "duration": 1.304654,
     "end_time": "2024-06-21T12:04:28.033112",
     "exception": false,
     "start_time": "2024-06-21T12:04:26.728458",
     "status": "completed"
    },
    "tags": []
   },
   "outputs": [
    {
     "name": "stdout",
     "output_type": "stream",
     "text": [
      "Setup complete! You're ready to start question 0.\n",
      "get ready\n"
     ]
    }
   ],
   "source": [
    "from learntools.core import binder; binder.bind(globals())\n",
    "from learntools.python.ex1 import *\n",
    "print(\"Setup complete! You're ready to start question 0.\")\n",
    "print(\"get ready\")"
   ]
  },
  {
   "cell_type": "markdown",
   "id": "dbf7a5da",
   "metadata": {
    "papermill": {
     "duration": 0.010364,
     "end_time": "2024-06-21T12:04:28.054615",
     "exception": false,
     "start_time": "2024-06-21T12:04:28.044251",
     "status": "completed"
    },
    "tags": []
   },
   "source": [
    "# 0.\n",
    "\n",
    "*This is a silly question intended as an introduction to the format we use for hands-on exercises throughout all Kaggle courses.*\n",
    "\n",
    "**What is your favorite color? **\n",
    "\n",
    "To complete this question, create a variable called `color` in the cell below with an appropriate value. The function call `q0.check()` (which we've already provided in the cell below) will check your answer."
   ]
  },
  {
   "cell_type": "code",
   "execution_count": 3,
   "id": "2584b424",
   "metadata": {
    "execution": {
     "iopub.execute_input": "2024-06-21T12:04:28.077456Z",
     "iopub.status.busy": "2024-06-21T12:04:28.076483Z",
     "iopub.status.idle": "2024-06-21T12:04:28.088912Z",
     "shell.execute_reply": "2024-06-21T12:04:28.087456Z"
    },
    "papermill": {
     "duration": 0.027439,
     "end_time": "2024-06-21T12:04:28.092193",
     "exception": false,
     "start_time": "2024-06-21T12:04:28.064754",
     "status": "completed"
    },
    "tags": []
   },
   "outputs": [
    {
     "data": {
      "application/javascript": [
       "parent.postMessage({\"jupyterEvent\": \"custom.exercise_interaction\", \"data\": {\"outcomeType\": 1, \"valueTowardsCompletion\": 0.25, \"interactionType\": 1, \"questionType\": 2, \"questionId\": \"0_ExerciseFormatTutorial\", \"learnToolsVersion\": \"0.3.4\", \"failureMessage\": \"\", \"exceptionClass\": \"\", \"trace\": \"\"}}, \"*\")"
      ],
      "text/plain": [
       "<IPython.core.display.Javascript object>"
      ]
     },
     "metadata": {},
     "output_type": "display_data"
    },
    {
     "data": {
      "text/markdown": [
       "<span style=\"color:#33cc33\">Correct:</span> What?! You got it right without needing a hint or anything? Drats. Well hey, you should still continue to the next step to get some practice asking for a hint and checking solutions. (Even though you obviously don't need any help here.)"
      ],
      "text/plain": [
       "Correct: What?! You got it right without needing a hint or anything? Drats. Well hey, you should still continue to the next step to get some practice asking for a hint and checking solutions. (Even though you obviously don't need any help here.)"
      ]
     },
     "metadata": {},
     "output_type": "display_data"
    }
   ],
   "source": [
    "# create a variable called color with an appropriate value on the line below\n",
    "# (Remember, strings in Python must be enclosed in 'single' or \"double\" quotes)\n",
    "color=\"blue\"\n",
    "\n",
    "# Check your answer\n",
    "q0.check()"
   ]
  },
  {
   "cell_type": "markdown",
   "id": "b7b14425",
   "metadata": {
    "papermill": {
     "duration": 0.01001,
     "end_time": "2024-06-21T12:04:28.112808",
     "exception": false,
     "start_time": "2024-06-21T12:04:28.102798",
     "status": "completed"
    },
    "tags": []
   },
   "source": [
    "Didn't get the right answer? How do you not even know your own favorite color?!\n",
    "\n",
    "Delete the `#` in the line below to make one of the lines run. You can choose between getting a hint or the full answer by choosing which line to remove the `#` from. \n",
    "\n",
    "Removing the `#` is called uncommenting, because it changes that line from a \"comment\" which Python doesn't run to code, which Python does run."
   ]
  },
  {
   "cell_type": "code",
   "execution_count": 4,
   "id": "e85b5920",
   "metadata": {
    "execution": {
     "iopub.execute_input": "2024-06-21T12:04:28.137949Z",
     "iopub.status.busy": "2024-06-21T12:04:28.137501Z",
     "iopub.status.idle": "2024-06-21T12:04:28.142806Z",
     "shell.execute_reply": "2024-06-21T12:04:28.141522Z"
    },
    "papermill": {
     "duration": 0.022364,
     "end_time": "2024-06-21T12:04:28.145645",
     "exception": false,
     "start_time": "2024-06-21T12:04:28.123281",
     "status": "completed"
    },
    "tags": []
   },
   "outputs": [],
   "source": [
    "#q0.hint()\n",
    "#q0.solution()"
   ]
  },
  {
   "cell_type": "markdown",
   "id": "0fd4b186",
   "metadata": {
    "papermill": {
     "duration": 0.011426,
     "end_time": "2024-06-21T12:04:28.168938",
     "exception": false,
     "start_time": "2024-06-21T12:04:28.157512",
     "status": "completed"
    },
    "tags": []
   },
   "source": [
    "The upcoming questions work the same way. The only thing that will change are the question numbers. For the next question, you'll call `q1.check()`, `q1.hint()`, `q1.solution()`, for question 2, you'll call `q2.check()`, and so on."
   ]
  },
  {
   "cell_type": "markdown",
   "id": "47a142da",
   "metadata": {
    "papermill": {
     "duration": 0.010779,
     "end_time": "2024-06-21T12:04:28.191548",
     "exception": false,
     "start_time": "2024-06-21T12:04:28.180769",
     "status": "completed"
    },
    "tags": []
   },
   "source": [
    "<hr/>\n",
    "\n",
    "# 1.\n",
    "\n",
    "Complete the code below. In case it's helpful, here is the table of available arithmetic operations:\n",
    "\n",
    "\n",
    "\n",
    "| Operator     | Name           | Description                                            |\n",
    "|--------------|----------------|--------------------------------------------------------|\n",
    "| ``a + b``    | Addition       | Sum of ``a`` and ``b``                                 |\n",
    "| ``a - b``    | Subtraction    | Difference of ``a`` and ``b``                          |\n",
    "| ``a * b``    | Multiplication | Product of ``a`` and ``b``                             |\n",
    "| ``a / b``    | True division  | Quotient of ``a`` and ``b``                            |\n",
    "| ``a // b``   | Floor division | Quotient of ``a`` and ``b``, removing fractional parts |\n",
    "| ``a % b``    | Modulus        | Integer remainder after division of ``a`` by ``b``     |\n",
    "| ``a ** b``   | Exponentiation | ``a`` raised to the power of ``b``                     |\n",
    "| ``-a``       | Negation       | The negative of ``a``                                  |\n",
    "\n",
    "<span style=\"display:none\"></span>\n"
   ]
  },
  {
   "cell_type": "code",
   "execution_count": 5,
   "id": "19aa90e7",
   "metadata": {
    "execution": {
     "iopub.execute_input": "2024-06-21T12:04:28.216242Z",
     "iopub.status.busy": "2024-06-21T12:04:28.215754Z",
     "iopub.status.idle": "2024-06-21T12:04:28.225197Z",
     "shell.execute_reply": "2024-06-21T12:04:28.223897Z"
    },
    "papermill": {
     "duration": 0.026253,
     "end_time": "2024-06-21T12:04:28.229080",
     "exception": false,
     "start_time": "2024-06-21T12:04:28.202827",
     "status": "completed"
    },
    "tags": []
   },
   "outputs": [
    {
     "name": "stdout",
     "output_type": "stream",
     "text": [
      "7.0685775\n"
     ]
    }
   ],
   "source": [
    "pi = 3.14159 # approximate\n",
    "diameter = 3\n",
    "\n",
    "radius=diameter/2\n",
    "\n",
    "# Create a variable called 'area', using the formula for the area of a circle: pi times the radius squared\n",
    "area=pi*radius**2\n",
    "\n",
    "# Check your answer\n",
    "print(area)"
   ]
  },
  {
   "cell_type": "code",
   "execution_count": 6,
   "id": "55a98163",
   "metadata": {
    "execution": {
     "iopub.execute_input": "2024-06-21T12:04:28.253621Z",
     "iopub.status.busy": "2024-06-21T12:04:28.253015Z",
     "iopub.status.idle": "2024-06-21T12:04:28.258701Z",
     "shell.execute_reply": "2024-06-21T12:04:28.257504Z"
    },
    "papermill": {
     "duration": 0.020318,
     "end_time": "2024-06-21T12:04:28.261559",
     "exception": false,
     "start_time": "2024-06-21T12:04:28.241241",
     "status": "completed"
    },
    "tags": []
   },
   "outputs": [],
   "source": [
    "# Uncomment and run the lines below if you need help.\n",
    "#q1.hint()\n",
    "#q1.solution()"
   ]
  },
  {
   "cell_type": "markdown",
   "id": "5a18b4c5",
   "metadata": {
    "papermill": {
     "duration": 0.010627,
     "end_time": "2024-06-21T12:04:28.282955",
     "exception": false,
     "start_time": "2024-06-21T12:04:28.272328",
     "status": "completed"
    },
    "tags": []
   },
   "source": [
    "<hr/>\n",
    "\n",
    "# 2.\n",
    "\n",
    "Add code to the following cell to swap variables `a` and `b` (so that `a` refers to the object previously referred to by `b` and vice versa)."
   ]
  },
  {
   "cell_type": "code",
   "execution_count": 7,
   "id": "7be0f07b",
   "metadata": {
    "execution": {
     "iopub.execute_input": "2024-06-21T12:04:28.306212Z",
     "iopub.status.busy": "2024-06-21T12:04:28.305805Z",
     "iopub.status.idle": "2024-06-21T12:04:28.313549Z",
     "shell.execute_reply": "2024-06-21T12:04:28.311921Z"
    },
    "papermill": {
     "duration": 0.023343,
     "end_time": "2024-06-21T12:04:28.316702",
     "exception": false,
     "start_time": "2024-06-21T12:04:28.293359",
     "status": "completed"
    },
    "tags": []
   },
   "outputs": [
    {
     "name": "stdout",
     "output_type": "stream",
     "text": [
      "[3, 2, 1]\n",
      "[1, 2, 3]\n"
     ]
    }
   ],
   "source": [
    "########### Setup code - don't touch this part ######################\n",
    "# If you're curious, these are examples of lists. We'll talk about \n",
    "# them in depth a few lessons from now. For now, just know that they're\n",
    "# yet another type of Python object, like int or float.\n",
    "a = [1, 2, 3]\n",
    "b = [3, 2, 1]\n",
    "t=a\n",
    "a=b\n",
    "b=t\n",
    "print(a)\n",
    "print(b)\n",
    "######################################################################\n",
    "\n",
    "# Your code goes here. Swap the values to which a and b refer.\n",
    "# If you get stuck, you can always uncomment one or both of the lines in\n",
    "# the next cell for a hint, or to peek at the solution.\n",
    "\n",
    "######################################################################\n",
    "\n",
    "# Check your answer"
   ]
  },
  {
   "cell_type": "code",
   "execution_count": null,
   "id": "19ee212e",
   "metadata": {
    "papermill": {
     "duration": 0.010434,
     "end_time": "2024-06-21T12:04:28.338052",
     "exception": false,
     "start_time": "2024-06-21T12:04:28.327618",
     "status": "completed"
    },
    "tags": []
   },
   "outputs": [],
   "source": []
  },
  {
   "cell_type": "code",
   "execution_count": null,
   "id": "13a85f8e",
   "metadata": {
    "papermill": {
     "duration": 0.010773,
     "end_time": "2024-06-21T12:04:28.359218",
     "exception": false,
     "start_time": "2024-06-21T12:04:28.348445",
     "status": "completed"
    },
    "tags": []
   },
   "outputs": [],
   "source": []
  },
  {
   "cell_type": "code",
   "execution_count": 8,
   "id": "fa80af85",
   "metadata": {
    "execution": {
     "iopub.execute_input": "2024-06-21T12:04:28.382581Z",
     "iopub.status.busy": "2024-06-21T12:04:28.382208Z",
     "iopub.status.idle": "2024-06-21T12:04:28.387686Z",
     "shell.execute_reply": "2024-06-21T12:04:28.386259Z"
    },
    "papermill": {
     "duration": 0.020628,
     "end_time": "2024-06-21T12:04:28.390401",
     "exception": false,
     "start_time": "2024-06-21T12:04:28.369773",
     "status": "completed"
    },
    "tags": []
   },
   "outputs": [],
   "source": [
    "#q2.solution()"
   ]
  },
  {
   "cell_type": "markdown",
   "id": "eb0c138b",
   "metadata": {
    "papermill": {
     "duration": 0.011563,
     "end_time": "2024-06-21T12:04:28.413041",
     "exception": false,
     "start_time": "2024-06-21T12:04:28.401478",
     "status": "completed"
    },
    "tags": []
   },
   "source": [
    "<hr/>\n",
    "\n",
    "# 3a.\n",
    "\n",
    "Add parentheses to the following expression so that it evaluates to 1."
   ]
  },
  {
   "cell_type": "code",
   "execution_count": 9,
   "id": "31728b29",
   "metadata": {
    "execution": {
     "iopub.execute_input": "2024-06-21T12:04:28.436193Z",
     "iopub.status.busy": "2024-06-21T12:04:28.435781Z",
     "iopub.status.idle": "2024-06-21T12:04:28.443186Z",
     "shell.execute_reply": "2024-06-21T12:04:28.441964Z"
    },
    "papermill": {
     "duration": 0.022136,
     "end_time": "2024-06-21T12:04:28.446187",
     "exception": false,
     "start_time": "2024-06-21T12:04:28.424051",
     "status": "completed"
    },
    "tags": []
   },
   "outputs": [
    {
     "data": {
      "text/plain": [
       "1"
      ]
     },
     "execution_count": 9,
     "metadata": {},
     "output_type": "execute_result"
    }
   ],
   "source": [
    "(5 - 3) // 2"
   ]
  },
  {
   "cell_type": "code",
   "execution_count": 10,
   "id": "28171311",
   "metadata": {
    "execution": {
     "iopub.execute_input": "2024-06-21T12:04:28.470629Z",
     "iopub.status.busy": "2024-06-21T12:04:28.470146Z",
     "iopub.status.idle": "2024-06-21T12:04:28.475458Z",
     "shell.execute_reply": "2024-06-21T12:04:28.474082Z"
    },
    "papermill": {
     "duration": 0.020412,
     "end_time": "2024-06-21T12:04:28.478190",
     "exception": false,
     "start_time": "2024-06-21T12:04:28.457778",
     "status": "completed"
    },
    "tags": []
   },
   "outputs": [],
   "source": [
    "#q3.a.hint()"
   ]
  },
  {
   "cell_type": "markdown",
   "id": "24666202",
   "metadata": {
    "papermill": {
     "duration": 0.010027,
     "end_time": "2024-06-21T12:04:28.499032",
     "exception": false,
     "start_time": "2024-06-21T12:04:28.489005",
     "status": "completed"
    },
    "tags": []
   },
   "source": []
  },
  {
   "cell_type": "code",
   "execution_count": 11,
   "id": "89608170",
   "metadata": {
    "execution": {
     "iopub.execute_input": "2024-06-21T12:04:28.523043Z",
     "iopub.status.busy": "2024-06-21T12:04:28.522636Z",
     "iopub.status.idle": "2024-06-21T12:04:28.533328Z",
     "shell.execute_reply": "2024-06-21T12:04:28.532108Z"
    },
    "papermill": {
     "duration": 0.026522,
     "end_time": "2024-06-21T12:04:28.536008",
     "exception": false,
     "start_time": "2024-06-21T12:04:28.509486",
     "status": "completed"
    },
    "tags": []
   },
   "outputs": [
    {
     "data": {
      "application/javascript": [
       "parent.postMessage({\"jupyterEvent\": \"custom.exercise_interaction\", \"data\": {\"interactionType\": 3, \"questionType\": 4, \"questionId\": \"3.1_ArithmeticParensEasy\", \"learnToolsVersion\": \"0.3.4\", \"valueTowardsCompletion\": 0.0, \"failureMessage\": \"\", \"exceptionClass\": \"\", \"trace\": \"\", \"outcomeType\": 4}}, \"*\")"
      ],
      "text/plain": [
       "<IPython.core.display.Javascript object>"
      ]
     },
     "metadata": {},
     "output_type": "display_data"
    },
    {
     "data": {
      "text/markdown": [
       "<span style=\"color:#33cc99\">Solution:</span> \n",
       "```python\n",
       "(5 - 3) // 2\n",
       "```"
      ],
      "text/plain": [
       "Solution: \n",
       "```python\n",
       "(5 - 3) // 2\n",
       "```"
      ]
     },
     "metadata": {},
     "output_type": "display_data"
    }
   ],
   "source": [
    "# Check your answer (Run this code cell to receive credit!)\n",
    "q3.a.solution()"
   ]
  },
  {
   "cell_type": "markdown",
   "id": "fd633908",
   "metadata": {
    "papermill": {
     "duration": 0.011297,
     "end_time": "2024-06-21T12:04:28.558256",
     "exception": false,
     "start_time": "2024-06-21T12:04:28.546959",
     "status": "completed"
    },
    "tags": []
   },
   "source": [
    "# 3b.  <span title=\"A bit spicy\" style=\"color: darkgreen \">🌶️</span>\n",
    "\n",
    "<small>Questions, like this one, marked a spicy pepper are a bit harder.</small>\n",
    "\n",
    "Add parentheses to the following expression so that it evaluates to 0."
   ]
  },
  {
   "cell_type": "code",
   "execution_count": 12,
   "id": "79733c02",
   "metadata": {
    "execution": {
     "iopub.execute_input": "2024-06-21T12:04:28.583095Z",
     "iopub.status.busy": "2024-06-21T12:04:28.582663Z",
     "iopub.status.idle": "2024-06-21T12:04:28.590946Z",
     "shell.execute_reply": "2024-06-21T12:04:28.589819Z"
    },
    "papermill": {
     "duration": 0.023481,
     "end_time": "2024-06-21T12:04:28.593476",
     "exception": false,
     "start_time": "2024-06-21T12:04:28.569995",
     "status": "completed"
    },
    "tags": []
   },
   "outputs": [
    {
     "data": {
      "text/plain": [
       "0"
      ]
     },
     "execution_count": 12,
     "metadata": {},
     "output_type": "execute_result"
    }
   ],
   "source": [
    "8 - 3 * 2 -( 1 + 1)"
   ]
  },
  {
   "cell_type": "code",
   "execution_count": 13,
   "id": "9bed4bb9",
   "metadata": {
    "execution": {
     "iopub.execute_input": "2024-06-21T12:04:28.618696Z",
     "iopub.status.busy": "2024-06-21T12:04:28.618275Z",
     "iopub.status.idle": "2024-06-21T12:04:28.623862Z",
     "shell.execute_reply": "2024-06-21T12:04:28.622413Z"
    },
    "papermill": {
     "duration": 0.023482,
     "end_time": "2024-06-21T12:04:28.628104",
     "exception": false,
     "start_time": "2024-06-21T12:04:28.604622",
     "status": "completed"
    },
    "tags": []
   },
   "outputs": [],
   "source": [
    "#q3.b.hint()"
   ]
  },
  {
   "cell_type": "code",
   "execution_count": 14,
   "id": "9e631879",
   "metadata": {
    "execution": {
     "iopub.execute_input": "2024-06-21T12:04:28.655494Z",
     "iopub.status.busy": "2024-06-21T12:04:28.654899Z",
     "iopub.status.idle": "2024-06-21T12:04:28.666431Z",
     "shell.execute_reply": "2024-06-21T12:04:28.665258Z"
    },
    "papermill": {
     "duration": 0.028366,
     "end_time": "2024-06-21T12:04:28.669298",
     "exception": false,
     "start_time": "2024-06-21T12:04:28.640932",
     "status": "completed"
    },
    "tags": []
   },
   "outputs": [
    {
     "data": {
      "application/javascript": [
       "parent.postMessage({\"jupyterEvent\": \"custom.exercise_interaction\", \"data\": {\"interactionType\": 3, \"questionType\": 4, \"questionId\": \"3.2_ArithmeticParensHard\", \"learnToolsVersion\": \"0.3.4\", \"valueTowardsCompletion\": 0.0, \"failureMessage\": \"\", \"exceptionClass\": \"\", \"trace\": \"\", \"outcomeType\": 4}}, \"*\")"
      ],
      "text/plain": [
       "<IPython.core.display.Javascript object>"
      ]
     },
     "metadata": {},
     "output_type": "display_data"
    },
    {
     "data": {
      "text/markdown": [
       "<span style=\"color:#33cc99\">Solution:</span> `(8 - 3) * (2 - (1 + 1))` is one solution. There may be others."
      ],
      "text/plain": [
       "Solution: `(8 - 3) * (2 - (1 + 1))` is one solution. There may be others."
      ]
     },
     "metadata": {},
     "output_type": "display_data"
    }
   ],
   "source": [
    "# Check your answer (Run this code cell to receive credit!)\n",
    "q3.b.solution()"
   ]
  },
  {
   "cell_type": "markdown",
   "id": "8939f5f7",
   "metadata": {
    "papermill": {
     "duration": 0.011956,
     "end_time": "2024-06-21T12:04:28.693791",
     "exception": false,
     "start_time": "2024-06-21T12:04:28.681835",
     "status": "completed"
    },
    "tags": []
   },
   "source": [
    "<hr/>\n",
    "\n",
    "# 4. \n",
    "Alice, Bob and Carol have agreed to pool their Halloween candy and split it evenly among themselves.\n",
    "For the sake of their friendship, any candies left over will be smashed. For example, if they collectively\n",
    "bring home 91 candies, they'll take 30 each and smash 1.\n",
    "\n",
    "Write an arithmetic expression below to calculate how many candies they must smash for a given haul."
   ]
  },
  {
   "cell_type": "code",
   "execution_count": 15,
   "id": "8f650cee",
   "metadata": {
    "execution": {
     "iopub.execute_input": "2024-06-21T12:04:28.721253Z",
     "iopub.status.busy": "2024-06-21T12:04:28.720784Z",
     "iopub.status.idle": "2024-06-21T12:04:28.728977Z",
     "shell.execute_reply": "2024-06-21T12:04:28.727763Z"
    },
    "papermill": {
     "duration": 0.025531,
     "end_time": "2024-06-21T12:04:28.732110",
     "exception": false,
     "start_time": "2024-06-21T12:04:28.706579",
     "status": "completed"
    },
    "tags": []
   },
   "outputs": [
    {
     "name": "stdout",
     "output_type": "stream",
     "text": [
      "1\n"
     ]
    }
   ],
   "source": [
    "# Variables representing the number of candies collected by alice, bob, and carol\n",
    "alice_candies = 121\n",
    "bob_candies = 77\n",
    "carol_candies = 109\n",
    "total=alice_candies+bob_candies+carol_candies\n",
    "smash=total%3\n",
    "\n",
    "\n",
    "\n",
    "print(smash)"
   ]
  },
  {
   "cell_type": "code",
   "execution_count": null,
   "id": "cf58a872",
   "metadata": {
    "papermill": {
     "duration": 0.01108,
     "end_time": "2024-06-21T12:04:28.758377",
     "exception": false,
     "start_time": "2024-06-21T12:04:28.747297",
     "status": "completed"
    },
    "tags": []
   },
   "outputs": [],
   "source": []
  },
  {
   "cell_type": "markdown",
   "id": "10236229",
   "metadata": {
    "execution": {
     "iopub.execute_input": "2024-06-21T11:55:32.821227Z",
     "iopub.status.busy": "2024-06-21T11:55:32.820312Z",
     "iopub.status.idle": "2024-06-21T11:55:32.831344Z",
     "shell.execute_reply": "2024-06-21T11:55:32.830149Z",
     "shell.execute_reply.started": "2024-06-21T11:55:32.821184Z"
    },
    "papermill": {
     "duration": 0.011642,
     "end_time": "2024-06-21T12:04:28.782968",
     "exception": false,
     "start_time": "2024-06-21T12:04:28.771326",
     "status": "completed"
    },
    "tags": []
   },
   "source": [
    "#q4.hint()\n",
    "#q4.solution()"
   ]
  },
  {
   "cell_type": "markdown",
   "id": "4e3ece33",
   "metadata": {
    "papermill": {
     "duration": 0.01126,
     "end_time": "2024-06-21T12:04:28.805889",
     "exception": false,
     "start_time": "2024-06-21T12:04:28.794629",
     "status": "completed"
    },
    "tags": []
   },
   "source": [
    "# Keep Going\n",
    "\n",
    "Next up, you'll **[learn to write new functions and understand functions others write](https://www.kaggle.com/colinmorris/functions-and-getting-help)**. This will make you at least 10 times more productive as a Python programmer. "
   ]
  },
  {
   "cell_type": "markdown",
   "id": "bd9725c5",
   "metadata": {
    "papermill": {
     "duration": 0.011494,
     "end_time": "2024-06-21T12:04:28.829745",
     "exception": false,
     "start_time": "2024-06-21T12:04:28.818251",
     "status": "completed"
    },
    "tags": []
   },
   "source": [
    "---\n",
    "\n",
    "\n",
    "\n",
    "\n",
    "*Have questions or comments? Visit the [course discussion forum](https://www.kaggle.com/learn/python/discussion) to chat with other learners.*"
   ]
  }
 ],
 "metadata": {
  "kaggle": {
   "accelerator": "none",
   "dataSources": [],
   "isGpuEnabled": false,
   "isInternetEnabled": false,
   "language": "python",
   "sourceType": "notebook"
  },
  "kernelspec": {
   "display_name": "Python 3",
   "language": "python",
   "name": "python3"
  },
  "language_info": {
   "codemirror_mode": {
    "name": "ipython",
    "version": 3
   },
   "file_extension": ".py",
   "mimetype": "text/x-python",
   "name": "python",
   "nbconvert_exporter": "python",
   "pygments_lexer": "ipython3",
   "version": "3.10.13"
  },
  "learntools_metadata": {
   "lesson_index": 0,
   "type": "exercise"
  },
  "papermill": {
   "default_parameters": {},
   "duration": 6.307838,
   "end_time": "2024-06-21T12:04:29.364667",
   "environment_variables": {},
   "exception": null,
   "input_path": "__notebook__.ipynb",
   "output_path": "__notebook__.ipynb",
   "parameters": {},
   "start_time": "2024-06-21T12:04:23.056829",
   "version": "2.5.0"
  }
 },
 "nbformat": 4,
 "nbformat_minor": 5
}
